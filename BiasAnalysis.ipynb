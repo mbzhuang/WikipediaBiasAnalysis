{
 "cells": [
  {
   "cell_type": "markdown",
   "metadata": {},
   "source": [
    "# Bias on Wikipedia\n",
    "\n",
    "The goal of this project is to explore the concept of 'bias' through analyzing data on Wikipedia articles, which are on politicians from a variety of countries. By analyzing the existence and quality of these political articles, we are expecting to have a deeper understanding on bias of Wikipedia's content."
   ]
  },
  {
   "cell_type": "markdown",
   "metadata": {},
   "source": [
    "### Step 1: Data aquisition\n",
    "#### Getting the article and population data\n",
    "The wikipedia dataset is downloaded from Figshare (https://figshare.com/articles/Untitled_Item/5513449). \n",
    "\n",
    "The population data is on the Population Research Bureau website (http://www.prb.org/DataFinder/Topic/Rankings.aspx?ind=14).\n",
    "\n",
    "After downloading on 10/28/2017, read the csv files into dataframes."
   ]
  },
  {
   "cell_type": "code",
   "execution_count": 1,
   "metadata": {},
   "outputs": [
    {
     "data": {
      "text/html": [
       "<script>requirejs.config({paths: { 'plotly': ['https://cdn.plot.ly/plotly-latest.min']},});if(!window.Plotly) {{require(['plotly'],function(plotly) {window.Plotly=plotly;});}}</script>"
      ],
      "text/vnd.plotly.v1+html": [
       "<script>requirejs.config({paths: { 'plotly': ['https://cdn.plot.ly/plotly-latest.min']},});if(!window.Plotly) {{require(['plotly'],function(plotly) {window.Plotly=plotly;});}}</script>"
      ]
     },
     "metadata": {},
     "output_type": "display_data"
    }
   ],
   "source": [
    "import requests\n",
    "import json\n",
    "import pandas as pd\n",
    "from pandas.io.json import json_normalize\n",
    "import copy\n",
    "from datetime import datetime\n",
    "import plotly\n",
    "import plotly.graph_objs as go\n",
    "from plotly import tools\n",
    "\n",
    "plotly.__version__\n",
    "plotly.offline.init_notebook_mode(connected=True)\n",
    "plotly.plotly.sign_in('45220Zmb', '9EywutMKCyDsD5WpWSp9')\n",
    "\n",
    "# endpoint = 'https://ores.wikimedia.org/v3/scores/{context}?models={model}&revids={revid}'\n",
    "endpoint = 'https://ores.wikimedia.org/v3/scores/{project}/?models={model}&revids={revids}'\n",
    "headers={'User-Agent' : 'https://github.com/mbzhuang', 'From' : 'mbzhuang@uw.edu'}"
   ]
  },
  {
   "cell_type": "code",
   "execution_count": 2,
   "metadata": {},
   "outputs": [
    {
     "data": {
      "text/html": [
       "<div>\n",
       "<table border=\"1\" class=\"dataframe\">\n",
       "  <thead>\n",
       "    <tr style=\"text-align: right;\">\n",
       "      <th></th>\n",
       "      <th>page</th>\n",
       "      <th>country</th>\n",
       "      <th>rev_id</th>\n",
       "    </tr>\n",
       "  </thead>\n",
       "  <tbody>\n",
       "    <tr>\n",
       "      <th>0</th>\n",
       "      <td>Template:ZambiaProvincialMinisters</td>\n",
       "      <td>Zambia</td>\n",
       "      <td>235107991</td>\n",
       "    </tr>\n",
       "    <tr>\n",
       "      <th>1</th>\n",
       "      <td>Bir I of Kanem</td>\n",
       "      <td>Chad</td>\n",
       "      <td>355319463</td>\n",
       "    </tr>\n",
       "    <tr>\n",
       "      <th>2</th>\n",
       "      <td>Template:Zimbabwe-politician-stub</td>\n",
       "      <td>Zimbabwe</td>\n",
       "      <td>391862046</td>\n",
       "    </tr>\n",
       "    <tr>\n",
       "      <th>3</th>\n",
       "      <td>Template:Uganda-politician-stub</td>\n",
       "      <td>Uganda</td>\n",
       "      <td>391862070</td>\n",
       "    </tr>\n",
       "    <tr>\n",
       "      <th>4</th>\n",
       "      <td>Template:Namibia-politician-stub</td>\n",
       "      <td>Namibia</td>\n",
       "      <td>391862409</td>\n",
       "    </tr>\n",
       "  </tbody>\n",
       "</table>\n",
       "</div>"
      ],
      "text/plain": [
       "                                 page   country     rev_id\n",
       "0  Template:ZambiaProvincialMinisters    Zambia  235107991\n",
       "1                      Bir I of Kanem      Chad  355319463\n",
       "2   Template:Zimbabwe-politician-stub  Zimbabwe  391862046\n",
       "3     Template:Uganda-politician-stub    Uganda  391862070\n",
       "4    Template:Namibia-politician-stub   Namibia  391862409"
      ]
     },
     "execution_count": 2,
     "metadata": {},
     "output_type": "execute_result"
    }
   ],
   "source": [
    "pagedata = pd.read_csv(\"page_data.csv\")\n",
    "pagedata.head()"
   ]
  },
  {
   "cell_type": "code",
   "execution_count": 3,
   "metadata": {},
   "outputs": [
    {
     "data": {
      "text/html": [
       "<div>\n",
       "<table border=\"1\" class=\"dataframe\">\n",
       "  <thead>\n",
       "    <tr style=\"text-align: right;\">\n",
       "      <th></th>\n",
       "      <th></th>\n",
       "      <th></th>\n",
       "      <th></th>\n",
       "      <th></th>\n",
       "      <th>Population Mid-2015</th>\n",
       "    </tr>\n",
       "  </thead>\n",
       "  <tbody>\n",
       "    <tr>\n",
       "      <th>Location</th>\n",
       "      <th>Location Type</th>\n",
       "      <th>TimeFrame</th>\n",
       "      <th>Data Type</th>\n",
       "      <th>Data</th>\n",
       "      <td>Footnotes</td>\n",
       "    </tr>\n",
       "    <tr>\n",
       "      <th>Afghanistan</th>\n",
       "      <th>Country</th>\n",
       "      <th>Mid-2015</th>\n",
       "      <th>Number</th>\n",
       "      <th>32,247,000</th>\n",
       "      <td>NaN</td>\n",
       "    </tr>\n",
       "    <tr>\n",
       "      <th>Albania</th>\n",
       "      <th>Country</th>\n",
       "      <th>Mid-2015</th>\n",
       "      <th>Number</th>\n",
       "      <th>2,892,000</th>\n",
       "      <td>NaN</td>\n",
       "    </tr>\n",
       "    <tr>\n",
       "      <th>Algeria</th>\n",
       "      <th>Country</th>\n",
       "      <th>Mid-2015</th>\n",
       "      <th>Number</th>\n",
       "      <th>39,948,000</th>\n",
       "      <td>NaN</td>\n",
       "    </tr>\n",
       "    <tr>\n",
       "      <th>Andorra</th>\n",
       "      <th>Country</th>\n",
       "      <th>Mid-2015</th>\n",
       "      <th>Number</th>\n",
       "      <th>78,000</th>\n",
       "      <td>NaN</td>\n",
       "    </tr>\n",
       "  </tbody>\n",
       "</table>\n",
       "</div>"
      ],
      "text/plain": [
       "                                                         Population Mid-2015\n",
       "Location    Location Type TimeFrame Data Type Data                 Footnotes\n",
       "Afghanistan Country       Mid-2015  Number    32,247,000                 NaN\n",
       "Albania     Country       Mid-2015  Number    2,892,000                  NaN\n",
       "Algeria     Country       Mid-2015  Number    39,948,000                 NaN\n",
       "Andorra     Country       Mid-2015  Number    78,000                     NaN"
      ]
     },
     "execution_count": 3,
     "metadata": {},
     "output_type": "execute_result"
    }
   ],
   "source": [
    "population = pd.read_csv(\"Population Mid-2015.csv\")\n",
    "population.head()"
   ]
  },
  {
   "cell_type": "markdown",
   "metadata": {},
   "source": [
    "It appeared that the population data file is converted from excel and the format is not descent. Rearrange the population dataframe by reading the second row as the header."
   ]
  },
  {
   "cell_type": "code",
   "execution_count": 4,
   "metadata": {},
   "outputs": [
    {
     "data": {
      "text/html": [
       "<div>\n",
       "<table border=\"1\" class=\"dataframe\">\n",
       "  <thead>\n",
       "    <tr style=\"text-align: right;\">\n",
       "      <th></th>\n",
       "      <th>Location</th>\n",
       "      <th>Location Type</th>\n",
       "      <th>TimeFrame</th>\n",
       "      <th>Data Type</th>\n",
       "      <th>Data</th>\n",
       "      <th>Footnotes</th>\n",
       "    </tr>\n",
       "  </thead>\n",
       "  <tbody>\n",
       "    <tr>\n",
       "      <th>0</th>\n",
       "      <td>Afghanistan</td>\n",
       "      <td>Country</td>\n",
       "      <td>Mid-2015</td>\n",
       "      <td>Number</td>\n",
       "      <td>32,247,000</td>\n",
       "      <td>NaN</td>\n",
       "    </tr>\n",
       "    <tr>\n",
       "      <th>1</th>\n",
       "      <td>Albania</td>\n",
       "      <td>Country</td>\n",
       "      <td>Mid-2015</td>\n",
       "      <td>Number</td>\n",
       "      <td>2,892,000</td>\n",
       "      <td>NaN</td>\n",
       "    </tr>\n",
       "    <tr>\n",
       "      <th>2</th>\n",
       "      <td>Algeria</td>\n",
       "      <td>Country</td>\n",
       "      <td>Mid-2015</td>\n",
       "      <td>Number</td>\n",
       "      <td>39,948,000</td>\n",
       "      <td>NaN</td>\n",
       "    </tr>\n",
       "    <tr>\n",
       "      <th>3</th>\n",
       "      <td>Andorra</td>\n",
       "      <td>Country</td>\n",
       "      <td>Mid-2015</td>\n",
       "      <td>Number</td>\n",
       "      <td>78,000</td>\n",
       "      <td>NaN</td>\n",
       "    </tr>\n",
       "    <tr>\n",
       "      <th>4</th>\n",
       "      <td>Angola</td>\n",
       "      <td>Country</td>\n",
       "      <td>Mid-2015</td>\n",
       "      <td>Number</td>\n",
       "      <td>25,000,000</td>\n",
       "      <td>NaN</td>\n",
       "    </tr>\n",
       "  </tbody>\n",
       "</table>\n",
       "</div>"
      ],
      "text/plain": [
       "      Location Location Type TimeFrame Data Type        Data  Footnotes\n",
       "0  Afghanistan       Country  Mid-2015    Number  32,247,000        NaN\n",
       "1      Albania       Country  Mid-2015    Number   2,892,000        NaN\n",
       "2      Algeria       Country  Mid-2015    Number  39,948,000        NaN\n",
       "3      Andorra       Country  Mid-2015    Number      78,000        NaN\n",
       "4       Angola       Country  Mid-2015    Number  25,000,000        NaN"
      ]
     },
     "execution_count": 4,
     "metadata": {},
     "output_type": "execute_result"
    }
   ],
   "source": [
    "population = pd.read_csv(\"Population Mid-2015.csv\", header = 1)\n",
    "population.head()"
   ]
  },
  {
   "cell_type": "markdown",
   "metadata": {},
   "source": [
    "#### Getting article quality predictions"
   ]
  },
  {
   "cell_type": "markdown",
   "metadata": {},
   "source": [
    "Convert the rev_id column to be a series of strings, each string contains 50 rev_ids. Thus, it is efficient to get the quality scores using ORES since they will be acquired in batches of 50."
   ]
  },
  {
   "cell_type": "code",
   "execution_count": 5,
   "metadata": {
    "collapsed": true
   },
   "outputs": [],
   "source": [
    "composite_list = [pagedata['rev_id'][x:x+50] for x in range(0, len(pagedata['rev_id']), 50)]\n",
    "str_list = []\n",
    "for j in range(len(composite_list)):\n",
    "    id_str = \"\"\n",
    "    for i in composite_list[j]:\n",
    "        id_str += str(i) + \"|\"\n",
    "    id_str = id_str[:-1]\n",
    "    str_list.append(id_str)"
   ]
  },
  {
   "cell_type": "markdown",
   "metadata": {},
   "source": [
    "Take a look at the first element of the concatenated revids."
   ]
  },
  {
   "cell_type": "code",
   "execution_count": 6,
   "metadata": {},
   "outputs": [
    {
     "data": {
      "text/plain": [
       "'235107991|355319463|391862046|391862070|391862409|391862819|391863340|391863361|391863617|391863809|393276188|393298432|393822005|394482629|394482891|394580295|394580630|394580939|394580993|394581284|394581557|394587483|394587547|395521877|395526568|401577829|413885084|433871129|433871165|435008715|437454659|437735138|438305657|439671509|439708117|440397578|440594068|440598656|441172886|441186581|441771813|441995465|442411422|442913438|442937236|443468553|443469862|443470532|443496992|443497423'"
      ]
     },
     "execution_count": 6,
     "metadata": {},
     "output_type": "execute_result"
    }
   ],
   "source": [
    "str_list[0]"
   ]
  },
  {
   "cell_type": "markdown",
   "metadata": {},
   "source": [
    "Get the article quality through ORES, save to JSON files, read in JSON files, and save the data into one dataframe."
   ]
  },
  {
   "cell_type": "code",
   "execution_count": 7,
   "metadata": {},
   "outputs": [
    {
     "data": {
      "text/plain": [
       "False"
      ]
     },
     "execution_count": 7,
     "metadata": {},
     "output_type": "execute_result"
    }
   ],
   "source": [
    "df_quality = pd.DataFrame()\n",
    "\n",
    "# Loop over all the elements of str_list, which containes all revids from pagedata, to get their quality information.\n",
    "for j in range(len(str_list)):\n",
    "    params = {'project' : 'enwiki',\n",
    "              'model' : 'wp10',\n",
    "              'revids' : str_list[j]\n",
    "              }\n",
    "    api_call = requests.get(endpoint.format(**params))\n",
    "    response = api_call.json()\n",
    "    \n",
    "    with open('JSON_Data/ORES_quality_data_'+ str(j) + '.json', 'w') as outfile:\n",
    "        json.dump(response, outfile)\n",
    "\n",
    "    with open('JSON_Data/ORES_quality_data_'+ str(j) + '.json', 'r') as infile:\n",
    "        json_content = json.load(infile)\n",
    "            \n",
    "    DataFrame = pd.DataFrame.transpose(json_normalize({(i): json_content['enwiki']['scores'][i]['wp10']['score']['prediction'] \n",
    "                                                       for i in json_content['enwiki']['scores'].keys() \n",
    "                                                       if 'score' in json_content['enwiki']['scores'][i]['wp10'].keys()}))\n",
    "    df_quality = df_quality.append(DataFrame)\n",
    "\n",
    "df_quality['revid'] = df_quality.index\n",
    "df_quality = pd.DataFrame(df_quality)\n",
    "df_quality['revid'] = df_quality['revid'].astype(int)\n",
    "df_quality['prediction'] = df_quality[0].astype(str)\n",
    "\n",
    "# Test if the length of df_quality is the same with pagedata.\n",
    "pagedata.shape[0] == df_quality.shape[0]"
   ]
  },
  {
   "cell_type": "code",
   "execution_count": 8,
   "metadata": {},
   "outputs": [
    {
     "data": {
      "text/plain": [
       "['807367030', '807367166']"
      ]
     },
     "execution_count": 8,
     "metadata": {},
     "output_type": "execute_result"
    }
   ],
   "source": [
    "[x for x in list(pagedata.rev_id.astype(str)) if x not in list(df_quality.index)]"
   ]
  },
  {
   "cell_type": "markdown",
   "metadata": {},
   "source": [
    "The above revids doesn't get quality data through ORES. "
   ]
  },
  {
   "cell_type": "markdown",
   "metadata": {},
   "source": [
    "### Step 2: Data processing\n",
    "Now we have three dataframes, pagedata, population, and df_quality. Merge them together to get the final dataframe that will contain country, article_name, revision_id, article_quality, and population."
   ]
  },
  {
   "cell_type": "code",
   "execution_count": 9,
   "metadata": {},
   "outputs": [
    {
     "data": {
      "text/plain": [
       "country            object\n",
       "article_name       object\n",
       "revision_id         int64\n",
       "article_quality    object\n",
       "population         object\n",
       "dtype: object"
      ]
     },
     "execution_count": 9,
     "metadata": {},
     "output_type": "execute_result"
    }
   ],
   "source": [
    "# Merge df_quality and pagedata.\n",
    "quality_pagedata = pd.merge(df_quality, pagedata, left_on='revid', right_on='rev_id', how = 'left')\n",
    "# Merge in population.\n",
    "df_final = pd.merge(quality_pagedata, population, left_on='country', right_on='Location')\n",
    "# Select needed columns from the final dataset and rename them.\n",
    "df_final = df_final[['country', 'page', 'revid', 'prediction', 'Data']]\n",
    "df_final.columns = ['country', 'article_name', 'revision_id', 'article_quality', 'population']\n",
    "# Look at the data types of the dataframe.\n",
    "df_final.dtypes"
   ]
  },
  {
   "cell_type": "code",
   "execution_count": 10,
   "metadata": {
    "collapsed": true
   },
   "outputs": [],
   "source": [
    "# Convert population variable to integer.\n",
    "df_final['population'] = [int(element.replace(',', '')) for element in df_final['population']]\n",
    "# Save the dataframe to csv file.\n",
    "df_final.to_csv(\"bias_analysis_processed_data.csv\", index=False)"
   ]
  },
  {
   "cell_type": "markdown",
   "metadata": {},
   "source": [
    "### Step 3: Data analysis and visualization"
   ]
  },
  {
   "cell_type": "markdown",
   "metadata": {},
   "source": [
    "#### The countries with the greatest and least coverage of politicians on Wikipedia compared to their population.\n",
    "\n",
    "Analysis on 10 highest-ranked countries in terms of number of politician articles as a proportion of country population:"
   ]
  },
  {
   "cell_type": "code",
   "execution_count": 11,
   "metadata": {},
   "outputs": [
    {
     "data": {
      "text/html": [
       "<div>\n",
       "<table border=\"1\" class=\"dataframe\">\n",
       "  <thead>\n",
       "    <tr style=\"text-align: right;\">\n",
       "      <th></th>\n",
       "      <th>country</th>\n",
       "      <th>population</th>\n",
       "      <th>variable</th>\n",
       "      <th>article_count</th>\n",
       "      <th>article_by_population</th>\n",
       "    </tr>\n",
       "  </thead>\n",
       "  <tbody>\n",
       "    <tr>\n",
       "      <th>120</th>\n",
       "      <td>Nauru</td>\n",
       "      <td>10860</td>\n",
       "      <td>article_name</td>\n",
       "      <td>53</td>\n",
       "      <td>0.004880</td>\n",
       "    </tr>\n",
       "    <tr>\n",
       "      <th>173</th>\n",
       "      <td>Tuvalu</td>\n",
       "      <td>11800</td>\n",
       "      <td>article_name</td>\n",
       "      <td>55</td>\n",
       "      <td>0.004661</td>\n",
       "    </tr>\n",
       "    <tr>\n",
       "      <th>141</th>\n",
       "      <td>San Marino</td>\n",
       "      <td>33000</td>\n",
       "      <td>article_name</td>\n",
       "      <td>82</td>\n",
       "      <td>0.002485</td>\n",
       "    </tr>\n",
       "    <tr>\n",
       "      <th>113</th>\n",
       "      <td>Monaco</td>\n",
       "      <td>38088</td>\n",
       "      <td>article_name</td>\n",
       "      <td>40</td>\n",
       "      <td>0.001050</td>\n",
       "    </tr>\n",
       "    <tr>\n",
       "      <th>97</th>\n",
       "      <td>Liechtenstein</td>\n",
       "      <td>37570</td>\n",
       "      <td>article_name</td>\n",
       "      <td>29</td>\n",
       "      <td>0.000772</td>\n",
       "    </tr>\n",
       "    <tr>\n",
       "      <th>107</th>\n",
       "      <td>Marshall Islands</td>\n",
       "      <td>55000</td>\n",
       "      <td>article_name</td>\n",
       "      <td>37</td>\n",
       "      <td>0.000673</td>\n",
       "    </tr>\n",
       "    <tr>\n",
       "      <th>72</th>\n",
       "      <td>Iceland</td>\n",
       "      <td>330828</td>\n",
       "      <td>article_name</td>\n",
       "      <td>206</td>\n",
       "      <td>0.000623</td>\n",
       "    </tr>\n",
       "    <tr>\n",
       "      <th>168</th>\n",
       "      <td>Tonga</td>\n",
       "      <td>103300</td>\n",
       "      <td>article_name</td>\n",
       "      <td>63</td>\n",
       "      <td>0.000610</td>\n",
       "    </tr>\n",
       "    <tr>\n",
       "      <th>3</th>\n",
       "      <td>Andorra</td>\n",
       "      <td>78000</td>\n",
       "      <td>article_name</td>\n",
       "      <td>34</td>\n",
       "      <td>0.000436</td>\n",
       "    </tr>\n",
       "    <tr>\n",
       "      <th>54</th>\n",
       "      <td>Federated States of Micronesia</td>\n",
       "      <td>103000</td>\n",
       "      <td>article_name</td>\n",
       "      <td>38</td>\n",
       "      <td>0.000369</td>\n",
       "    </tr>\n",
       "  </tbody>\n",
       "</table>\n",
       "</div>"
      ],
      "text/plain": [
       "                            country  population      variable  article_count  \\\n",
       "120                           Nauru       10860  article_name             53   \n",
       "173                          Tuvalu       11800  article_name             55   \n",
       "141                      San Marino       33000  article_name             82   \n",
       "113                          Monaco       38088  article_name             40   \n",
       "97                    Liechtenstein       37570  article_name             29   \n",
       "107                Marshall Islands       55000  article_name             37   \n",
       "72                          Iceland      330828  article_name            206   \n",
       "168                           Tonga      103300  article_name             63   \n",
       "3                           Andorra       78000  article_name             34   \n",
       "54   Federated States of Micronesia      103000  article_name             38   \n",
       "\n",
       "     article_by_population  \n",
       "120               0.004880  \n",
       "173               0.004661  \n",
       "141               0.002485  \n",
       "113               0.001050  \n",
       "97                0.000772  \n",
       "107               0.000673  \n",
       "72                0.000623  \n",
       "168               0.000610  \n",
       "3                 0.000436  \n",
       "54                0.000369  "
      ]
     },
     "execution_count": 11,
     "metadata": {},
     "output_type": "execute_result"
    }
   ],
   "source": [
    "df_final = pd.read_csv(\"bias_analysis_processed_data.csv\")\n",
    "# Aggregate df_final dataframe, group by country and population, get the count of article names.\n",
    "article_by_population = df_final.groupby(['country', 'population'])['article_name'].count()\n",
    "article_by_population = pd.DataFrame(article_by_population)\n",
    "article_by_population = pd.melt(article_by_population.reset_index(), id_vars=['country', 'population'], value_name='article_count')\n",
    "# Calculate the proportion of cpolitician articles by country population\n",
    "article_by_population['article_by_population'] = article_by_population['article_count']/article_by_population['population']\n",
    "# Get the top 10 highest-ranked countries\n",
    "top_article_by_population = article_by_population.sort_values(by = 'article_by_population', ascending=False)[0:10]\n",
    "top_article_by_population"
   ]
  },
  {
   "cell_type": "markdown",
   "metadata": {},
   "source": [
    "As shown below, most countries on top of the list in terms of number of articles divided by population are the countries of lowest population."
   ]
  },
  {
   "cell_type": "code",
   "execution_count": 12,
   "metadata": {},
   "outputs": [
    {
     "data": {
      "text/plain": [
       "country\n",
       "Nauru                  10860\n",
       "Tuvalu                 11800\n",
       "San Marino             33000\n",
       "Liechtenstein          37570\n",
       "Monaco                 38088\n",
       "Marshall Islands       55000\n",
       "Dominica               68000\n",
       "Andorra                78000\n",
       "Antigua and Barbuda    90000\n",
       "Seychelles             92833\n",
       "Name: population, dtype: int64"
      ]
     },
     "execution_count": 12,
     "metadata": {},
     "output_type": "execute_result"
    }
   ],
   "source": [
    "bottom_by_population = df_final.groupby(['country'])['population'].mean().sort_values(ascending=True)[0:10]\n",
    "bottom_by_population"
   ]
  },
  {
   "cell_type": "markdown",
   "metadata": {},
   "source": [
    "Next, use plotly to make visualization to present the above information."
   ]
  },
  {
   "cell_type": "code",
   "execution_count": 13,
   "metadata": {},
   "outputs": [
    {
     "data": {
      "application/vnd.plotly.v1+json": {
       "data": [
        {
         "marker": {
          "line": {
           "width": 1.5
          }
         },
         "opacity": 0.6,
         "type": "bar",
         "x": [
          "Nauru",
          "Tuvalu",
          "San Marino",
          "Monaco",
          "Liechtenstein",
          "Marshall Islands",
          "Iceland",
          "Tonga",
          "Andorra",
          "Federated States of Micronesia"
         ],
         "y": [
          0.004880294659300184,
          0.004661016949152543,
          0.0024848484848484847,
          0.0010501995379122034,
          0.0007718924673941975,
          0.0006727272727272728,
          0.0006226800633561851,
          0.0006098741529525654,
          0.0004358974358974359,
          0.00036893203883495146
         ]
        }
       ],
       "layout": {
        "height": 600,
        "margin": {
         "b": 150,
         "l": 100,
         "pad": 4,
         "r": 150,
         "t": 100
        },
        "title": "Number of politician articles by population, 10 highest-ranked countries",
        "width": 1000,
        "xaxis": {
         "title": "Country"
        },
        "yaxis": {
         "range": [
          0,
          0.005
         ],
         "title": "Number of Articles Divided By Country Population"
        }
       }
      },
      "text/html": [
       "<div id=\"3ad2d12e-9fd8-4498-b107-5134f2ebbcca\" style=\"height: 600px; width: 1000px;\" class=\"plotly-graph-div\"></div><script type=\"text/javascript\">require([\"plotly\"], function(Plotly) { window.PLOTLYENV=window.PLOTLYENV || {};window.PLOTLYENV.BASE_URL=\"https://plot.ly\";Plotly.newPlot(\"3ad2d12e-9fd8-4498-b107-5134f2ebbcca\", [{\"type\": \"bar\", \"x\": [\"Nauru\", \"Tuvalu\", \"San Marino\", \"Monaco\", \"Liechtenstein\", \"Marshall Islands\", \"Iceland\", \"Tonga\", \"Andorra\", \"Federated States of Micronesia\"], \"y\": [0.004880294659300184, 0.004661016949152543, 0.0024848484848484847, 0.0010501995379122034, 0.0007718924673941975, 0.0006727272727272728, 0.0006226800633561851, 0.0006098741529525654, 0.0004358974358974359, 0.00036893203883495146], \"marker\": {\"line\": {\"width\": 1.5}}, \"opacity\": 0.6}], {\"title\": \"Number of politician articles by population, 10 highest-ranked countries\", \"height\": 600, \"width\": 1000, \"margin\": {\"l\": 100, \"r\": 150, \"b\": 150, \"t\": 100, \"pad\": 4}, \"xaxis\": {\"title\": \"Country\"}, \"yaxis\": {\"title\": \"Number of Articles Divided By Country Population\", \"range\": [0, 0.005]}}, {\"showLink\": true, \"linkText\": \"Export to plot.ly\"})});</script>"
      ],
      "text/vnd.plotly.v1+html": [
       "<div id=\"3ad2d12e-9fd8-4498-b107-5134f2ebbcca\" style=\"height: 600px; width: 1000px;\" class=\"plotly-graph-div\"></div><script type=\"text/javascript\">require([\"plotly\"], function(Plotly) { window.PLOTLYENV=window.PLOTLYENV || {};window.PLOTLYENV.BASE_URL=\"https://plot.ly\";Plotly.newPlot(\"3ad2d12e-9fd8-4498-b107-5134f2ebbcca\", [{\"type\": \"bar\", \"x\": [\"Nauru\", \"Tuvalu\", \"San Marino\", \"Monaco\", \"Liechtenstein\", \"Marshall Islands\", \"Iceland\", \"Tonga\", \"Andorra\", \"Federated States of Micronesia\"], \"y\": [0.004880294659300184, 0.004661016949152543, 0.0024848484848484847, 0.0010501995379122034, 0.0007718924673941975, 0.0006727272727272728, 0.0006226800633561851, 0.0006098741529525654, 0.0004358974358974359, 0.00036893203883495146], \"marker\": {\"line\": {\"width\": 1.5}}, \"opacity\": 0.6}], {\"title\": \"Number of politician articles by population, 10 highest-ranked countries\", \"height\": 600, \"width\": 1000, \"margin\": {\"l\": 100, \"r\": 150, \"b\": 150, \"t\": 100, \"pad\": 4}, \"xaxis\": {\"title\": \"Country\"}, \"yaxis\": {\"title\": \"Number of Articles Divided By Country Population\", \"range\": [0, 0.005]}}, {\"showLink\": true, \"linkText\": \"Export to plot.ly\"})});</script>"
      ]
     },
     "metadata": {},
     "output_type": "display_data"
    }
   ],
   "source": [
    "trace1 = go.Bar(\n",
    "    x=top_article_by_population.country,\n",
    "    y=top_article_by_population.article_by_population,\n",
    "    marker=dict(\n",
    "#         color='rgb(158,202,225)',\n",
    "        line=dict(\n",
    "#             color='rgb(8,48,107)',\n",
    "            width=1.5,\n",
    "        )\n",
    "    ),\n",
    "    opacity=0.6\n",
    ")\n",
    "\n",
    "data = [trace1]\n",
    "layout = go.Layout(\n",
    "    title='Number of politician articles by population, 10 highest-ranked countries',\n",
    "    height= 600, width = 1000,\n",
    "    margin=go.Margin(\n",
    "        l=100,\n",
    "        r=150,\n",
    "        b=150,\n",
    "        t=100,\n",
    "        pad=4\n",
    "    ),\n",
    "    xaxis = dict(title = 'Country'),\n",
    "    yaxis = dict(title = 'Number of Articles Divided By Country Population', range=[0, 0.005]),\n",
    ")\n",
    "\n",
    "fig = go.Figure(data=data, layout=layout)\n",
    "# Show image in jupyter notebook\n",
    "plotly.offline.iplot(fig, filename='HighestCountryArticlebyPopulation')\n",
    "\n",
    "# Save the image\n",
    "plotly.plotly.image.save_as(fig, filename='HighestCountryArticlebyPopulation.png')"
   ]
  },
  {
   "cell_type": "markdown",
   "metadata": {},
   "source": [
    "Analysis on 10 lowest-ranked countries in terms of number of politician articles as a proportion of country population:"
   ]
  },
  {
   "cell_type": "code",
   "execution_count": 14,
   "metadata": {},
   "outputs": [
    {
     "data": {
      "text/html": [
       "<div>\n",
       "<table border=\"1\" class=\"dataframe\">\n",
       "  <thead>\n",
       "    <tr style=\"text-align: right;\">\n",
       "      <th></th>\n",
       "      <th>country</th>\n",
       "      <th>population</th>\n",
       "      <th>variable</th>\n",
       "      <th>article_count</th>\n",
       "      <th>article_by_population</th>\n",
       "    </tr>\n",
       "  </thead>\n",
       "  <tbody>\n",
       "    <tr>\n",
       "      <th>73</th>\n",
       "      <td>India</td>\n",
       "      <td>1314097616</td>\n",
       "      <td>article_name</td>\n",
       "      <td>990</td>\n",
       "      <td>7.533687e-07</td>\n",
       "    </tr>\n",
       "    <tr>\n",
       "      <th>34</th>\n",
       "      <td>China</td>\n",
       "      <td>1371920000</td>\n",
       "      <td>article_name</td>\n",
       "      <td>1138</td>\n",
       "      <td>8.294944e-07</td>\n",
       "    </tr>\n",
       "    <tr>\n",
       "      <th>74</th>\n",
       "      <td>Indonesia</td>\n",
       "      <td>255741973</td>\n",
       "      <td>article_name</td>\n",
       "      <td>215</td>\n",
       "      <td>8.406911e-07</td>\n",
       "    </tr>\n",
       "    <tr>\n",
       "      <th>180</th>\n",
       "      <td>Uzbekistan</td>\n",
       "      <td>31290791</td>\n",
       "      <td>article_name</td>\n",
       "      <td>29</td>\n",
       "      <td>9.267902e-07</td>\n",
       "    </tr>\n",
       "    <tr>\n",
       "      <th>53</th>\n",
       "      <td>Ethiopia</td>\n",
       "      <td>98148000</td>\n",
       "      <td>article_name</td>\n",
       "      <td>105</td>\n",
       "      <td>1.069813e-06</td>\n",
       "    </tr>\n",
       "    <tr>\n",
       "      <th>86</th>\n",
       "      <td>Korea, North</td>\n",
       "      <td>24983000</td>\n",
       "      <td>article_name</td>\n",
       "      <td>39</td>\n",
       "      <td>1.561062e-06</td>\n",
       "    </tr>\n",
       "    <tr>\n",
       "      <th>185</th>\n",
       "      <td>Zambia</td>\n",
       "      <td>15473900</td>\n",
       "      <td>article_name</td>\n",
       "      <td>26</td>\n",
       "      <td>1.680249e-06</td>\n",
       "    </tr>\n",
       "    <tr>\n",
       "      <th>166</th>\n",
       "      <td>Thailand</td>\n",
       "      <td>65121250</td>\n",
       "      <td>article_name</td>\n",
       "      <td>112</td>\n",
       "      <td>1.719869e-06</td>\n",
       "    </tr>\n",
       "    <tr>\n",
       "      <th>38</th>\n",
       "      <td>Congo, Dem. Rep. of</td>\n",
       "      <td>73340200</td>\n",
       "      <td>article_name</td>\n",
       "      <td>142</td>\n",
       "      <td>1.936182e-06</td>\n",
       "    </tr>\n",
       "    <tr>\n",
       "      <th>13</th>\n",
       "      <td>Bangladesh</td>\n",
       "      <td>160411000</td>\n",
       "      <td>article_name</td>\n",
       "      <td>324</td>\n",
       "      <td>2.019812e-06</td>\n",
       "    </tr>\n",
       "  </tbody>\n",
       "</table>\n",
       "</div>"
      ],
      "text/plain": [
       "                 country  population      variable  article_count  \\\n",
       "73                 India  1314097616  article_name            990   \n",
       "34                 China  1371920000  article_name           1138   \n",
       "74             Indonesia   255741973  article_name            215   \n",
       "180           Uzbekistan    31290791  article_name             29   \n",
       "53              Ethiopia    98148000  article_name            105   \n",
       "86          Korea, North    24983000  article_name             39   \n",
       "185               Zambia    15473900  article_name             26   \n",
       "166             Thailand    65121250  article_name            112   \n",
       "38   Congo, Dem. Rep. of    73340200  article_name            142   \n",
       "13            Bangladesh   160411000  article_name            324   \n",
       "\n",
       "     article_by_population  \n",
       "73            7.533687e-07  \n",
       "34            8.294944e-07  \n",
       "74            8.406911e-07  \n",
       "180           9.267902e-07  \n",
       "53            1.069813e-06  \n",
       "86            1.561062e-06  \n",
       "185           1.680249e-06  \n",
       "166           1.719869e-06  \n",
       "38            1.936182e-06  \n",
       "13            2.019812e-06  "
      ]
     },
     "execution_count": 14,
     "metadata": {},
     "output_type": "execute_result"
    }
   ],
   "source": [
    "# Get the top 10 lowest-ranked countries\n",
    "bottom_article_by_population = article_by_population.sort_values(by = 'article_by_population', ascending=True)[0:10]\n",
    "bottom_article_by_population"
   ]
  },
  {
   "cell_type": "markdown",
   "metadata": {},
   "source": [
    "Similarly, most countries on the bottom of the list in terms of number of articles divided by population are the countries of highest population, for instance, China, India, Indonesia, and Bangladesh."
   ]
  },
  {
   "cell_type": "code",
   "execution_count": 15,
   "metadata": {},
   "outputs": [
    {
     "data": {
      "text/plain": [
       "country\n",
       "China            1371920000\n",
       "India            1314097616\n",
       "United States     321234172\n",
       "Indonesia         255741973\n",
       "Brazil            204519398\n",
       "Pakistan          199047300\n",
       "Nigeria           181839400\n",
       "Bangladesh        160411000\n",
       "Russia            144302000\n",
       "Mexico            127017000\n",
       "Name: population, dtype: int64"
      ]
     },
     "execution_count": 15,
     "metadata": {},
     "output_type": "execute_result"
    }
   ],
   "source": [
    "top_by_population = df_final.groupby(['country'])['population'].mean().sort_values(ascending=False)[0:10]\n",
    "top_by_population"
   ]
  },
  {
   "cell_type": "markdown",
   "metadata": {},
   "source": [
    "Use plotly to make visualization to present the above information."
   ]
  },
  {
   "cell_type": "code",
   "execution_count": 16,
   "metadata": {},
   "outputs": [
    {
     "data": {
      "application/vnd.plotly.v1+json": {
       "data": [
        {
         "marker": {
          "line": {
           "width": 1.5
          }
         },
         "opacity": 0.6,
         "type": "bar",
         "x": [
          "India",
          "China",
          "Indonesia",
          "Uzbekistan",
          "Ethiopia",
          "Korea, North",
          "Zambia",
          "Thailand",
          "Congo, Dem. Rep. of",
          "Bangladesh"
         ],
         "y": [
          7.533686903819784e-07,
          8.294944311621669e-07,
          8.406910976635032e-07,
          9.267902495657588e-07,
          1.0698129355666952e-06,
          1.5610615218348478e-06,
          1.680248676804167e-06,
          1.719868706451427e-06,
          1.9361823392900484e-06,
          2.0198116089295622e-06
         ]
        }
       ],
       "layout": {
        "height": 600,
        "margin": {
         "b": 150,
         "l": 100,
         "pad": 4,
         "r": 150,
         "t": 100
        },
        "title": "Number of politician articles by population, 10 lowest-ranked countries",
        "width": 1000,
        "xaxis": {
         "title": "Country"
        },
        "yaxis": {
         "title": "Number of Articles Divided By Country Population"
        }
       }
      },
      "text/html": [
       "<div id=\"16386bc1-1540-4fc4-b707-47e0844a953b\" style=\"height: 600px; width: 1000px;\" class=\"plotly-graph-div\"></div><script type=\"text/javascript\">require([\"plotly\"], function(Plotly) { window.PLOTLYENV=window.PLOTLYENV || {};window.PLOTLYENV.BASE_URL=\"https://plot.ly\";Plotly.newPlot(\"16386bc1-1540-4fc4-b707-47e0844a953b\", [{\"type\": \"bar\", \"x\": [\"India\", \"China\", \"Indonesia\", \"Uzbekistan\", \"Ethiopia\", \"Korea, North\", \"Zambia\", \"Thailand\", \"Congo, Dem. Rep. of\", \"Bangladesh\"], \"y\": [7.533686903819784e-07, 8.294944311621669e-07, 8.406910976635032e-07, 9.267902495657588e-07, 1.0698129355666952e-06, 1.5610615218348478e-06, 1.680248676804167e-06, 1.719868706451427e-06, 1.9361823392900484e-06, 2.0198116089295622e-06], \"marker\": {\"line\": {\"width\": 1.5}}, \"opacity\": 0.6}], {\"title\": \"Number of politician articles by population, 10 lowest-ranked countries\", \"height\": 600, \"width\": 1000, \"margin\": {\"l\": 100, \"r\": 150, \"b\": 150, \"t\": 100, \"pad\": 4}, \"xaxis\": {\"title\": \"Country\"}, \"yaxis\": {\"title\": \"Number of Articles Divided By Country Population\"}}, {\"showLink\": true, \"linkText\": \"Export to plot.ly\"})});</script>"
      ],
      "text/vnd.plotly.v1+html": [
       "<div id=\"16386bc1-1540-4fc4-b707-47e0844a953b\" style=\"height: 600px; width: 1000px;\" class=\"plotly-graph-div\"></div><script type=\"text/javascript\">require([\"plotly\"], function(Plotly) { window.PLOTLYENV=window.PLOTLYENV || {};window.PLOTLYENV.BASE_URL=\"https://plot.ly\";Plotly.newPlot(\"16386bc1-1540-4fc4-b707-47e0844a953b\", [{\"type\": \"bar\", \"x\": [\"India\", \"China\", \"Indonesia\", \"Uzbekistan\", \"Ethiopia\", \"Korea, North\", \"Zambia\", \"Thailand\", \"Congo, Dem. Rep. of\", \"Bangladesh\"], \"y\": [7.533686903819784e-07, 8.294944311621669e-07, 8.406910976635032e-07, 9.267902495657588e-07, 1.0698129355666952e-06, 1.5610615218348478e-06, 1.680248676804167e-06, 1.719868706451427e-06, 1.9361823392900484e-06, 2.0198116089295622e-06], \"marker\": {\"line\": {\"width\": 1.5}}, \"opacity\": 0.6}], {\"title\": \"Number of politician articles by population, 10 lowest-ranked countries\", \"height\": 600, \"width\": 1000, \"margin\": {\"l\": 100, \"r\": 150, \"b\": 150, \"t\": 100, \"pad\": 4}, \"xaxis\": {\"title\": \"Country\"}, \"yaxis\": {\"title\": \"Number of Articles Divided By Country Population\"}}, {\"showLink\": true, \"linkText\": \"Export to plot.ly\"})});</script>"
      ]
     },
     "metadata": {},
     "output_type": "display_data"
    }
   ],
   "source": [
    "trace1 = go.Bar(\n",
    "    x=bottom_article_by_population.country,\n",
    "    y=bottom_article_by_population.article_by_population,\n",
    "    marker=dict(\n",
    "#         color='rgb(158,202,225)',\n",
    "        line=dict(\n",
    "#             color='rgb(8,48,107)',\n",
    "            width=1.5,\n",
    "        )\n",
    "    ),\n",
    "    opacity=0.6\n",
    ")\n",
    "\n",
    "data = [trace1]\n",
    "layout = go.Layout(\n",
    "    title='Number of politician articles by population, 10 lowest-ranked countries',\n",
    "    height= 600, width = 1000,\n",
    "        margin=go.Margin(\n",
    "        l=100,\n",
    "        r=150,\n",
    "        b=150,\n",
    "        t=100,\n",
    "        pad=4\n",
    "    ),\n",
    "    xaxis = dict(title = 'Country'),\n",
    "    yaxis = dict(title = 'Number of Articles Divided By Country Population'),\n",
    ")\n",
    "\n",
    "fig = go.Figure(data=data, layout=layout)\n",
    "# Show image in jupyter notebook\n",
    "plotly.offline.iplot(fig, filename='LowestCountryArticlebyPopulation')\n",
    "\n",
    "# Save the image\n",
    "plotly.plotly.image.save_as(fig, filename='LowestCountryArticlebyPopulation.png')"
   ]
  },
  {
   "cell_type": "markdown",
   "metadata": {},
   "source": [
    "\n",
    "#### The countries with the highest and lowest proportion of high quality articles about politicians.\n",
    "Analysis on 10 highest-ranked countries in terms of number of GA and FA-quality articles as a proportion of all articles about politicians from that country:"
   ]
  },
  {
   "cell_type": "code",
   "execution_count": 23,
   "metadata": {},
   "outputs": [
    {
     "data": {
      "text/html": [
       "<div>\n",
       "<table border=\"1\" class=\"dataframe\">\n",
       "  <thead>\n",
       "    <tr style=\"text-align: right;\">\n",
       "      <th></th>\n",
       "      <th>country</th>\n",
       "      <th>high_quality_proportion</th>\n",
       "    </tr>\n",
       "  </thead>\n",
       "  <tbody>\n",
       "    <tr>\n",
       "      <th>86</th>\n",
       "      <td>Korea, North</td>\n",
       "      <td>0.230769</td>\n",
       "    </tr>\n",
       "    <tr>\n",
       "      <th>138</th>\n",
       "      <td>Romania</td>\n",
       "      <td>0.129310</td>\n",
       "    </tr>\n",
       "    <tr>\n",
       "      <th>143</th>\n",
       "      <td>Saudi Arabia</td>\n",
       "      <td>0.126050</td>\n",
       "    </tr>\n",
       "    <tr>\n",
       "      <th>31</th>\n",
       "      <td>Central African Republic</td>\n",
       "      <td>0.117647</td>\n",
       "    </tr>\n",
       "    <tr>\n",
       "      <th>137</th>\n",
       "      <td>Qatar</td>\n",
       "      <td>0.098039</td>\n",
       "    </tr>\n",
       "    <tr>\n",
       "      <th>68</th>\n",
       "      <td>Guinea-Bissau</td>\n",
       "      <td>0.095238</td>\n",
       "    </tr>\n",
       "    <tr>\n",
       "      <th>183</th>\n",
       "      <td>Vietnam</td>\n",
       "      <td>0.094241</td>\n",
       "    </tr>\n",
       "    <tr>\n",
       "      <th>19</th>\n",
       "      <td>Bhutan</td>\n",
       "      <td>0.090909</td>\n",
       "    </tr>\n",
       "    <tr>\n",
       "      <th>77</th>\n",
       "      <td>Ireland</td>\n",
       "      <td>0.081365</td>\n",
       "    </tr>\n",
       "    <tr>\n",
       "      <th>178</th>\n",
       "      <td>United States</td>\n",
       "      <td>0.078324</td>\n",
       "    </tr>\n",
       "  </tbody>\n",
       "</table>\n",
       "</div>"
      ],
      "text/plain": [
       "                      country  high_quality_proportion\n",
       "86               Korea, North                 0.230769\n",
       "138                   Romania                 0.129310\n",
       "143              Saudi Arabia                 0.126050\n",
       "31   Central African Republic                 0.117647\n",
       "137                     Qatar                 0.098039\n",
       "68              Guinea-Bissau                 0.095238\n",
       "183                   Vietnam                 0.094241\n",
       "19                     Bhutan                 0.090909\n",
       "77                    Ireland                 0.081365\n",
       "178             United States                 0.078324"
      ]
     },
     "execution_count": 23,
     "metadata": {},
     "output_type": "execute_result"
    }
   ],
   "source": [
    "# Get the total article count from the dataframe above, article_by_population\n",
    "article_count_df = article_by_population[['country', 'article_count']]\n",
    "# Get the count of GA and FA articles for each country\n",
    "FA_df = df_final[df_final.article_quality == 'FA']\n",
    "FA_df = pd.DataFrame(FA_df.groupby(['country'])['article_quality'].count())\n",
    "FA_df = pd.melt(FA_df.reset_index(), id_vars=['country'], value_name='FA_count')\n",
    "GA_df = df_final[df_final.article_quality == 'GA']\n",
    "GA_df = pd.DataFrame(GA_df.groupby(['country'])['article_quality'].count())\n",
    "GA_df = pd.melt(GA_df.reset_index(), id_vars=['country'], value_name='GA_count')\n",
    "# Merge article_count_df, FA_df, and GA_df\n",
    "article_high_quality = pd.merge(article_count_df, FA_df, on='country', how ='left')\n",
    "article_high_quality = pd.merge(article_high_quality, GA_df, on='country', how ='left')\n",
    "# Fill NA with 0\n",
    "article_high_quality = article_high_quality.fillna(value = 0)\n",
    "# Calculate proportion of high quality articles\n",
    "article_high_quality['high_quality_proportion'] = (article_high_quality['FA_count'] + article_high_quality['GA_count'])/article_high_quality['article_count']\n",
    "article_high_quality = article_high_quality[['country', 'high_quality_proportion']]\n",
    "# Get the top 10 highest-ranked countries\n",
    "top_high_quality = article_high_quality.sort_values(by = 'high_quality_proportion', ascending=False)[0:10]\n",
    "top_high_quality"
   ]
  },
  {
   "cell_type": "markdown",
   "metadata": {},
   "source": [
    "Use plotly to make visualization to present the above information."
   ]
  },
  {
   "cell_type": "code",
   "execution_count": 26,
   "metadata": {},
   "outputs": [
    {
     "data": {
      "application/vnd.plotly.v1+json": {
       "data": [
        {
         "marker": {
          "line": {
           "width": 1.5
          }
         },
         "opacity": 0.6,
         "type": "bar",
         "x": [
          "Korea, North",
          "Romania",
          "Saudi Arabia",
          "Central African Republic",
          "Qatar",
          "Guinea-Bissau",
          "Vietnam",
          "Bhutan",
          "Ireland",
          "United States"
         ],
         "y": [
          0.23076923076923078,
          0.12931034482758622,
          0.12605042016806722,
          0.11764705882352941,
          0.09803921568627451,
          0.09523809523809523,
          0.09424083769633508,
          0.09090909090909091,
          0.08136482939632546,
          0.07832422586520947
         ]
        }
       ],
       "layout": {
        "height": 600,
        "margin": {
         "b": 150,
         "l": 100,
         "pad": 4,
         "r": 150,
         "t": 100
        },
        "title": "High quality article proportion, 10 highest-ranked countries",
        "width": 1000,
        "xaxis": {
         "title": "Country"
        },
        "yaxis": {
         "tickformat": ".0%",
         "title": "Percentage of FA and GA grade articles"
        }
       }
      },
      "text/html": [
       "<div id=\"798e08b6-6ffd-49b7-81ab-6546f62e0acd\" style=\"height: 600px; width: 1000px;\" class=\"plotly-graph-div\"></div><script type=\"text/javascript\">require([\"plotly\"], function(Plotly) { window.PLOTLYENV=window.PLOTLYENV || {};window.PLOTLYENV.BASE_URL=\"https://plot.ly\";Plotly.newPlot(\"798e08b6-6ffd-49b7-81ab-6546f62e0acd\", [{\"type\": \"bar\", \"x\": [\"Korea, North\", \"Romania\", \"Saudi Arabia\", \"Central African Republic\", \"Qatar\", \"Guinea-Bissau\", \"Vietnam\", \"Bhutan\", \"Ireland\", \"United States\"], \"y\": [0.23076923076923078, 0.12931034482758622, 0.12605042016806722, 0.11764705882352941, 0.09803921568627451, 0.09523809523809523, 0.09424083769633508, 0.09090909090909091, 0.08136482939632546, 0.07832422586520947], \"marker\": {\"line\": {\"width\": 1.5}}, \"opacity\": 0.6}], {\"title\": \"High quality article proportion, 10 highest-ranked countries\", \"height\": 600, \"width\": 1000, \"margin\": {\"l\": 100, \"r\": 150, \"b\": 150, \"t\": 100, \"pad\": 4}, \"xaxis\": {\"title\": \"Country\"}, \"yaxis\": {\"title\": \"Percentage of FA and GA grade articles\", \"tickformat\": \".0%\"}}, {\"showLink\": true, \"linkText\": \"Export to plot.ly\"})});</script>"
      ],
      "text/vnd.plotly.v1+html": [
       "<div id=\"798e08b6-6ffd-49b7-81ab-6546f62e0acd\" style=\"height: 600px; width: 1000px;\" class=\"plotly-graph-div\"></div><script type=\"text/javascript\">require([\"plotly\"], function(Plotly) { window.PLOTLYENV=window.PLOTLYENV || {};window.PLOTLYENV.BASE_URL=\"https://plot.ly\";Plotly.newPlot(\"798e08b6-6ffd-49b7-81ab-6546f62e0acd\", [{\"type\": \"bar\", \"x\": [\"Korea, North\", \"Romania\", \"Saudi Arabia\", \"Central African Republic\", \"Qatar\", \"Guinea-Bissau\", \"Vietnam\", \"Bhutan\", \"Ireland\", \"United States\"], \"y\": [0.23076923076923078, 0.12931034482758622, 0.12605042016806722, 0.11764705882352941, 0.09803921568627451, 0.09523809523809523, 0.09424083769633508, 0.09090909090909091, 0.08136482939632546, 0.07832422586520947], \"marker\": {\"line\": {\"width\": 1.5}}, \"opacity\": 0.6}], {\"title\": \"High quality article proportion, 10 highest-ranked countries\", \"height\": 600, \"width\": 1000, \"margin\": {\"l\": 100, \"r\": 150, \"b\": 150, \"t\": 100, \"pad\": 4}, \"xaxis\": {\"title\": \"Country\"}, \"yaxis\": {\"title\": \"Percentage of FA and GA grade articles\", \"tickformat\": \".0%\"}}, {\"showLink\": true, \"linkText\": \"Export to plot.ly\"})});</script>"
      ]
     },
     "metadata": {},
     "output_type": "display_data"
    }
   ],
   "source": [
    "trace1 = go.Bar(\n",
    "    x=top_high_quality.country,\n",
    "    y=top_high_quality.high_quality_proportion,\n",
    "    marker=dict(\n",
    "#         color='rgb(158,202,225)',\n",
    "        line=dict(\n",
    "#             color='rgb(8,48,107)',\n",
    "            width=1.5,\n",
    "        )\n",
    "    ),\n",
    "    opacity=0.6\n",
    ")\n",
    "\n",
    "data = [trace1]\n",
    "layout = go.Layout(\n",
    "    title='High quality article proportion, 10 highest-ranked countries',\n",
    "    height= 600, width = 1000,\n",
    "        margin=go.Margin(\n",
    "        l=100,\n",
    "        r=150,\n",
    "        b=150,\n",
    "        t=100,\n",
    "        pad=4\n",
    "    ),\n",
    "    xaxis = dict(title = 'Country'),\n",
    "    yaxis = dict(title = 'Percentage of FA and GA grade articles', tickformat=\".0%\"),\n",
    ")\n",
    "\n",
    "fig = go.Figure(data=data, layout=layout)\n",
    "# Show image in jupyter notebook\n",
    "plotly.offline.iplot(fig, filename='HighestArticleQaulity')\n",
    "\n",
    "# Save the image\n",
    "plotly.plotly.image.save_as(fig, filename='HighestArticleQaulity.png')"
   ]
  },
  {
   "cell_type": "markdown",
   "metadata": {},
   "source": [
    "This is an interesting finding, as shown above, North Korea not only has the highest proportion\n",
    "of high quality articles on politician but also has a rate significantly higher than the rest countries on top of the list."
   ]
  },
  {
   "cell_type": "markdown",
   "metadata": {},
   "source": [
    "10 lowest-ranked countries in terms of number of GA and FA-quality articles as a proportion of all articles about politicians from that country"
   ]
  },
  {
   "cell_type": "code",
   "execution_count": 19,
   "metadata": {},
   "outputs": [
    {
     "data": {
      "text/html": [
       "<div>\n",
       "<table border=\"1\" class=\"dataframe\">\n",
       "  <thead>\n",
       "    <tr style=\"text-align: right;\">\n",
       "      <th></th>\n",
       "      <th>country</th>\n",
       "      <th>high_quality_proportion</th>\n",
       "    </tr>\n",
       "  </thead>\n",
       "  <tbody>\n",
       "    <tr>\n",
       "      <th>142</th>\n",
       "      <td>Sao Tome and Principe</td>\n",
       "      <td>0.0</td>\n",
       "    </tr>\n",
       "    <tr>\n",
       "      <th>172</th>\n",
       "      <td>Turkmenistan</td>\n",
       "      <td>0.0</td>\n",
       "    </tr>\n",
       "    <tr>\n",
       "      <th>107</th>\n",
       "      <td>Marshall Islands</td>\n",
       "      <td>0.0</td>\n",
       "    </tr>\n",
       "    <tr>\n",
       "      <th>69</th>\n",
       "      <td>Guyana</td>\n",
       "      <td>0.0</td>\n",
       "    </tr>\n",
       "    <tr>\n",
       "      <th>36</th>\n",
       "      <td>Comoros</td>\n",
       "      <td>0.0</td>\n",
       "    </tr>\n",
       "    <tr>\n",
       "      <th>170</th>\n",
       "      <td>Tunisia</td>\n",
       "      <td>0.0</td>\n",
       "    </tr>\n",
       "    <tr>\n",
       "      <th>45</th>\n",
       "      <td>Djibouti</td>\n",
       "      <td>0.0</td>\n",
       "    </tr>\n",
       "    <tr>\n",
       "      <th>46</th>\n",
       "      <td>Dominica</td>\n",
       "      <td>0.0</td>\n",
       "    </tr>\n",
       "    <tr>\n",
       "      <th>100</th>\n",
       "      <td>Macedonia</td>\n",
       "      <td>0.0</td>\n",
       "    </tr>\n",
       "    <tr>\n",
       "      <th>168</th>\n",
       "      <td>Tonga</td>\n",
       "      <td>0.0</td>\n",
       "    </tr>\n",
       "  </tbody>\n",
       "</table>\n",
       "</div>"
      ],
      "text/plain": [
       "                   country  high_quality_proportion\n",
       "142  Sao Tome and Principe                      0.0\n",
       "172           Turkmenistan                      0.0\n",
       "107       Marshall Islands                      0.0\n",
       "69                  Guyana                      0.0\n",
       "36                 Comoros                      0.0\n",
       "170                Tunisia                      0.0\n",
       "45                Djibouti                      0.0\n",
       "46                Dominica                      0.0\n",
       "100              Macedonia                      0.0\n",
       "168                  Tonga                      0.0"
      ]
     },
     "execution_count": 19,
     "metadata": {},
     "output_type": "execute_result"
    }
   ],
   "source": [
    "# Get the top 10 lowest-ranked countries\n",
    "bottom_high_quality = article_high_quality.sort_values(by = 'high_quality_proportion', ascending=True)[0:10]\n",
    "bottom_high_quality"
   ]
  },
  {
   "cell_type": "markdown",
   "metadata": {},
   "source": [
    "Since high quality articles in all of the above countries have proportion of 0, there is no need to make visualization."
   ]
  },
  {
   "cell_type": "code",
   "execution_count": 20,
   "metadata": {
    "collapsed": true
   },
   "outputs": [],
   "source": [
    "# df = pd.DataFrame.from_dict({(i): response['enwiki']['scores'][i]['wp10']['score']['prediction'] \n",
    "#                                   for i in response['enwiki']['scores'].keys()},\n",
    "#                               orient='index')\n",
    "# df.shape"
   ]
  }
 ],
 "metadata": {
  "kernelspec": {
   "display_name": "Python 3",
   "language": "python",
   "name": "python3"
  },
  "language_info": {
   "codemirror_mode": {
    "name": "ipython",
    "version": 3
   },
   "file_extension": ".py",
   "mimetype": "text/x-python",
   "name": "python",
   "nbconvert_exporter": "python",
   "pygments_lexer": "ipython3",
   "version": "3.6.0"
  }
 },
 "nbformat": 4,
 "nbformat_minor": 2
}
